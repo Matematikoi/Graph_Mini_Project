{
 "cells": [
  {
   "cell_type": "code",
   "execution_count": 2,
   "metadata": {},
   "outputs": [],
   "source": [
    "import numpy as np"
   ]
  },
  {
   "cell_type": "markdown",
   "metadata": {},
   "source": [
    "## 2. Prove that $A^n = X\\Lambda ^n X^{−1}$\n",
    "\n",
    "Assuming A in invertible, we prove this by induction. \n",
    "\n",
    "For n=1 its given since \n",
    "$$A^1 = X\\Lambda ^1 X^{−1} \\rightarrow A = X\\Lambda X^{−1}$$\n",
    "\n",
    "\n",
    "Assuming the property holds for n (that is  $A^n = X\\Lambda ^n X^{−1}$), we prove it for (n+1)\n",
    "$$A^{n+1} = A^n\\times A $$\n",
    "by induction hypothesis\n",
    "$$ = X\\Lambda ^n X^{−1} \\times X\\Lambda X^{−1}  = X\\Lambda ^{n+1} X^{−1} $$\n",
    "**QED**\n",
    "\n",
    "We can show this is the case for an example matrix."
   ]
  },
  {
   "cell_type": "code",
   "execution_count": 104,
   "metadata": {},
   "outputs": [
    {
     "data": {
      "text/plain": [
       "array([[ 3.,  0., 12.,  0.],\n",
       "       [ 2.,  5., 10., -2.],\n",
       "       [ 0.,  0.,  9.,  0.],\n",
       "       [-4.,  0., 23.,  4.]])"
      ]
     },
     "execution_count": 104,
     "metadata": {},
     "output_type": "execute_result"
    }
   ],
   "source": [
    "# Matrices with determinant 1 have integer inverses\n",
    "eigenvectors = np.array([\n",
    "    [1, 2, 3, 2],\n",
    "    [0, 1, 4, 3],\n",
    "    [0, 0, 1, 2],\n",
    "    [0, 0, 0, 1]\n",
    "])\n",
    "# Permute rows to make it look a bit more interesting\n",
    "eigenvectors= eigenvectors[[2,0,3,1]]\n",
    "\n",
    "eigenvalues = np.diag([5,4,3,9])\n",
    "\n",
    "# Now we have an matrix A\n",
    "A = eigenvectors@eigenvalues@np.linalg.inv(eigenvectors)\n",
    "A"
   ]
  },
  {
   "cell_type": "code",
   "execution_count": 76,
   "metadata": {},
   "outputs": [
    {
     "name": "stdout",
     "output_type": "stream",
     "text": [
      "Are the two matrices the same?:  True\n"
     ]
    }
   ],
   "source": [
    "A5 = np.linalg.matrix_power(A, 5)\n",
    "# You can use the property that A^n = X*Lambda^n*X^-1\n",
    "A5_eigenvectors = eigenvectors @ np.diag([5**5, 4**5, 3**5, 9**5]) @ np.linalg.inv(eigenvectors)\n",
    "\n",
    "print(\"Are the two matrices the same?: \", (A5 == A5_eigenvectors).all())"
   ]
  },
  {
   "cell_type": "markdown",
   "metadata": {},
   "source": [
    "## 4. Find determinants, eigenvector and eigen values\n",
    "Let \n",
    "$$\n",
    "S = \\begin{bmatrix}\n",
    "\\cos \\theta & -\\sin \\theta \\\\\n",
    "\\sin \\theta & \\cos \\theta \n",
    "\\end{bmatrix}\n",
    "\\begin{bmatrix}\n",
    "2 & 0 \\\\\n",
    "0 & 5 \n",
    "\\end{bmatrix}\n",
    "\\begin{bmatrix}\n",
    "\\cos \\theta & \\sin \\theta \\\\\n",
    "-\\sin \\theta & \\cos \\theta \n",
    "\\end{bmatrix}\n",
    "$$\n",
    "\n",
    "Then we know that $T_1 = \\begin{bmatrix} \\cos \\theta & -\\sin \\theta \\\\ \\sin \\theta & \\cos \\theta \\end{bmatrix}$  is a rotation matrix that rotates a vector $\\theta$ degrees counterclockwise.\n",
    "\n",
    "Similarly we have that $T_2 = \\begin{bmatrix} \\cos \\theta & \\sin \\theta \\\\ -\\sin \\theta & \\cos \\theta \\end{bmatrix}$ is a rotation matrix that rotates a vector $\\theta$ degrees clockwise.\n",
    "\n",
    "So by multiplying by $S$ what we are truly doing is rotating clockwise $\\theta$, then multiplying by $E = \\begin{bmatrix} 2 & 0 \\\\ 0 & 5 \\end{bmatrix}$ which is expanding on the X and Y axis by 2 and 5 respectevly and then is rotating everything counterclockwise $\\theta$ degrees.\n",
    "\n",
    "For the **determinant** it is easy to see that $T_1$ and $T_2$ are ortogonal and have determinant 0, similarly is easy to see that $det(E)=2*5=10$, so the determinant of $S$ can be calculated by \n",
    "$$det(S)= det(T_1 E T_2) = det(T_1)\\times det(E) \\times det(T_2) = 1 \\times 10 \\times 1 = 10$$\n",
    "\n",
    "The **eigenvalues** are clearly 2 and 5, since we are expanding in $E$ by those values the first and second axis.\n",
    "\n",
    "The **eigenvectors** are easy to find as well since what we need is to get the vectors that when $T_2$ is applied have either the first or the second axis null. We can rotate some vector like $\\begin{bmatrix}1\\\\0 \\end{bmatrix}$ that has the second axis nullyfied, by the inverse of $T_2$ which is $T_1$. \n",
    "\n",
    "Thus our eigenvector for the eigenvalue 2 is $T_1 \\begin{bmatrix}1\\\\0 \\end{bmatrix} = \\begin{bmatrix}\\cos \\theta \\\\ \\sin \\theta \\end{bmatrix}$\n",
    "\n",
    "Similarly for eigenvalue 5 the eigenvector is $T_1 \\begin{bmatrix}0\\\\1 \\end{bmatrix} = \\begin{bmatrix}-\\sin \\theta \\\\ \\cos \\theta \\end{bmatrix}$"
   ]
  },
  {
   "cell_type": "code",
   "execution_count": 87,
   "metadata": {},
   "outputs": [
    {
     "name": "stdout",
     "output_type": "stream",
     "text": [
      "Determinant of S: 10.00000\n",
      "Eigenvalues:  [5. 2.]\n",
      "Eigenvectors: \n",
      " [[ 0.70710678  0.70710678]\n",
      " [-0.70710678  0.70710678]]\n",
      "Calculated eigenvectors using properties: \n",
      " [[ 0.70710678 -0.70710678]\n",
      " [ 0.70710678  0.70710678]]\n"
     ]
    }
   ],
   "source": [
    "# Define theta\n",
    "theta = np.radians(45)  # example value for theta in radians\n",
    "\n",
    "# Define the rotation matrix 1\n",
    "T1 = np.array([\n",
    "    [np.cos(theta), -np.sin(theta)],\n",
    "    [np.sin(theta), np.cos(theta)]\n",
    "])\n",
    "\n",
    "# Define the diagonal matrix\n",
    "E = np.array([\n",
    "    [2, 0],\n",
    "    [0, 5]\n",
    "])\n",
    "\n",
    "# Define the rotation matrix 2\n",
    "T2 = np.array([\n",
    "\t[np.cos(theta), np.sin(theta)],\n",
    "\t[-np.sin(theta), np.cos(theta)]\n",
    "])\n",
    "\n",
    "S = T1 @ E @ T2\n",
    "# Get the determinant of S\n",
    "det_S = np.linalg.det(S)\n",
    "print(f\"Determinant of S: {det_S:.5f}\")\n",
    "# Get the eigenvalues and eigenvectors of S\n",
    "eigenvalues, eigenvectors = np.linalg.eig(S)\n",
    "print(\"Eigenvalues: \", eigenvalues)\n",
    "print(\"Eigenvectors: \\n\", eigenvectors)\n",
    "\n",
    "# Compare to calculated eigenvectors\n",
    "eigenvectors_calculated = np.array([\n",
    "    [np.cos(theta), -np.sin(theta)],\n",
    "\t[np.sin(theta), np.cos(theta)]\n",
    "])\n",
    "print(\"Calculated eigenvectors using properties: \\n\", eigenvectors_calculated)"
   ]
  },
  {
   "cell_type": "markdown",
   "metadata": {},
   "source": [
    "## Lazy random walk and random walk\n",
    "\n"
   ]
  },
  {
   "cell_type": "code",
   "execution_count": null,
   "metadata": {},
   "outputs": [],
   "source": []
  },
  {
   "cell_type": "code",
   "execution_count": null,
   "metadata": {},
   "outputs": [],
   "source": []
  },
  {
   "cell_type": "code",
   "execution_count": 50,
   "metadata": {},
   "outputs": [],
   "source": [
    "def power_matrix(A, n):\n",
    "\tif n == 0:\n",
    "\t\treturn np.eye(A.shape[0])\n",
    "\tif n == 1: \n",
    "\t\treturn A\n",
    "\tif n%2 == 0:\n",
    "\t\treturn power_matrix(A@A, n//2)\n",
    "\telse:\n",
    "\t\treturn A@power_matrix(A@A, n//2)"
   ]
  }
 ],
 "metadata": {
  "kernelspec": {
   "display_name": "torch",
   "language": "python",
   "name": "python3"
  },
  "language_info": {
   "codemirror_mode": {
    "name": "ipython",
    "version": 3
   },
   "file_extension": ".py",
   "mimetype": "text/x-python",
   "name": "python",
   "nbconvert_exporter": "python",
   "pygments_lexer": "ipython3",
   "version": "3.12.5"
  }
 },
 "nbformat": 4,
 "nbformat_minor": 2
}
