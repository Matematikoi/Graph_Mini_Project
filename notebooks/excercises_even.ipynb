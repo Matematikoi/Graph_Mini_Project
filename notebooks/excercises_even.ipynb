{
 "cells": [
  {
   "cell_type": "code",
   "execution_count": 2,
   "metadata": {},
   "outputs": [],
   "source": [
    "import numpy as np"
   ]
  },
  {
   "cell_type": "markdown",
   "metadata": {},
   "source": [
    "## 2. Prove that $A^n = X\\Lambda ^n X^{−1}$\n",
    "\n",
    "Assuming A in invertible, we prove this by induction. \n",
    "\n",
    "For n=1 its given since \n",
    "$$A^1 = X\\Lambda ^1 X^{−1} \\rightarrow A = X\\Lambda X^{−1}$$\n",
    "\n",
    "\n",
    "Assuming the property holds for n (that is  $A^n = X\\Lambda ^n X^{−1}$), we prove it for (n+1)\n",
    "$$A^{n+1} = A^n\\times A $$\n",
    "by induction hypothesis\n",
    "$$ = X\\Lambda ^n X^{−1} \\times X\\Lambda X^{−1}  = X\\Lambda ^{n+1} X^{−1} $$\n",
    "**QED**\n",
    "\n",
    "We can show this is the case for an example matrix."
   ]
  },
  {
   "cell_type": "code",
   "execution_count": 70,
   "metadata": {},
   "outputs": [
    {
     "data": {
      "text/plain": [
       "array([[ 3.,  0., 12.,  0.],\n",
       "       [ 2.,  5., 10., -2.],\n",
       "       [ 0.,  0.,  9.,  0.],\n",
       "       [-4.,  0., 23.,  4.]])"
      ]
     },
     "execution_count": 70,
     "metadata": {},
     "output_type": "execute_result"
    }
   ],
   "source": [
    "# Matrices with determinant 1 have integer inverses\n",
    "eigenvectors = np.array([\n",
    "    [1, 2, 3, 2],\n",
    "    [0, 1, 4, 3],\n",
    "    [0, 0, 1, 2],\n",
    "    [0, 0, 0, 1]\n",
    "])\n",
    "# Permute rows to make it look a bit more interesting\n",
    "eigenvectors= eigenvectors[[2,0,3,1]]\n",
    "\n",
    "eigenvalues = np.diag([5,4,3,9])\n",
    "\n",
    "# Now we have an matrix A\n",
    "A = eigenvectors@eigenvalues@np.linalg.inv(eigenvectors)\n",
    "A"
   ]
  },
  {
   "cell_type": "code",
   "execution_count": 76,
   "metadata": {},
   "outputs": [
    {
     "name": "stdout",
     "output_type": "stream",
     "text": [
      "Are the two matrices the same?:  True\n"
     ]
    }
   ],
   "source": [
    "A5 = np.linalg.matrix_power(A, 5)\n",
    "# You can use the property that A^n = X*Lambda^n*X^-1\n",
    "A5_eigenvectors = eigenvectors @ np.diag([5**5, 4**5, 3**5, 9**5]) @ np.linalg.inv(eigenvectors)\n",
    "\n",
    "print(\"Are the two matrices the same?: \", (A5 == A5_eigenvectors).all())"
   ]
  },
  {
   "cell_type": "code",
   "execution_count": null,
   "metadata": {},
   "outputs": [],
   "source": []
  },
  {
   "cell_type": "code",
   "execution_count": null,
   "metadata": {},
   "outputs": [],
   "source": []
  },
  {
   "cell_type": "code",
   "execution_count": null,
   "metadata": {},
   "outputs": [],
   "source": []
  },
  {
   "cell_type": "code",
   "execution_count": null,
   "metadata": {},
   "outputs": [],
   "source": []
  },
  {
   "cell_type": "code",
   "execution_count": null,
   "metadata": {},
   "outputs": [],
   "source": []
  },
  {
   "cell_type": "code",
   "execution_count": 50,
   "metadata": {},
   "outputs": [],
   "source": [
    "def power_matrix(A, n):\n",
    "\tif n == 0:\n",
    "\t\treturn np.eye(A.shape[0])\n",
    "\tif n == 1: \n",
    "\t\treturn A\n",
    "\tif n%2 == 0:\n",
    "\t\treturn power_matrix(A@A, n//2)\n",
    "\telse:\n",
    "\t\treturn A@power_matrix(A@A, n//2)"
   ]
  }
 ],
 "metadata": {
  "kernelspec": {
   "display_name": "torch",
   "language": "python",
   "name": "python3"
  },
  "language_info": {
   "codemirror_mode": {
    "name": "ipython",
    "version": 3
   },
   "file_extension": ".py",
   "mimetype": "text/x-python",
   "name": "python",
   "nbconvert_exporter": "python",
   "pygments_lexer": "ipython3",
   "version": "3.12.5"
  }
 },
 "nbformat": 4,
 "nbformat_minor": 2
}
