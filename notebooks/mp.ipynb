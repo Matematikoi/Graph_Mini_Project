{
 "cells": [
  {
   "cell_type": "code",
   "execution_count": 1,
   "metadata": {},
   "outputs": [],
   "source": [
    "import numpy as np\n"
   ]
  },
  {
   "cell_type": "markdown",
   "metadata": {},
   "source": [
    "# Linear Algebra"
   ]
  },
  {
   "cell_type": "code",
   "execution_count": 2,
   "metadata": {},
   "outputs": [],
   "source": [
    "def vector_norm(x, p=2):\n",
    "    return np.linalg.norm(x, p)\n",
    "\n",
    "def dot_product(x, y):\n",
    "    return np.dot(x, y)\n",
    "\n",
    "def cross_product(x, y):\n",
    "    return np.cross(x, y)\n",
    "\n",
    "def transpose(x):\n",
    "    return x.T\n",
    "\n",
    "def multiply(x, y):\n",
    "    return x @ y\n",
    "\n",
    "def determinant(x):\n",
    "    return np.linalg.det(x)\n",
    "\n",
    "def inverse(x):\n",
    "    return np.linalg.inv(x)\n",
    "\n",
    "def compute_eigenvectors(x):\n",
    "    vals, vecs = np.linalg.eig(x)\n",
    "    return vals, vecs\n",
    "\n",
    "def diagonalize(x):\n",
    "    eigenvalues, eigenvectors = eigenvectors(x)\n",
    "    D = np.diag(eigenvalues)\n",
    "    eigenvectors_inv = inverse(eigenvectors)\n",
    "    return eigenvectors, D, eigenvectors_inv\n",
    "\n",
    "def is_orthogonal(x):\n",
    "    return np.allclose(x @ x.T, np.eye(x.shape[0]))\n",
    "\n",
    "def is_symmetric(x):\n",
    "    return np.allclose(x, x.T)\n",
    "\n",
    "def is_positive_semi_definite(x):\n",
    "    return np.all(np.linalg.eigvals(x) >= 0)\n",
    "\n",
    "def is_positive_definite(x):\n",
    "    return np.all(np.linalg.eigvals(x) > 0)\n",
    "\n",
    "def rank(x):\n",
    "    return np.linalg.matrix_rank(x)\n",
    "\n",
    "def sum_of_eigenvalues(x):\n",
    "    return np.trace(x)\n",
    "\n",
    "def product_of_eigenvalues(x):\n",
    "    return determinant(x)"
   ]
  },
  {
   "cell_type": "markdown",
   "metadata": {},
   "source": [
    "## Question 1\n",
    "\n",
    "What could you say about these matrices: \n",
    "$$\n",
    "\\begin{pmatrix} -1 & \\dfrac{3}{2} \\\\ 1 & -1 \\end{pmatrix}\n",
    "\\begin{pmatrix} -1 & \\dfrac{3}{2} \\\\ \\dfrac{2}{3} & -1 \\end{pmatrix}\n",
    "\\begin{pmatrix} 1 & 0 & 0 \\\\ 0 & 1 & 0 \\\\ 0 & 0 & 1 \\end{pmatrix}\n",
    "$$"
   ]
  },
  {
   "cell_type": "markdown",
   "metadata": {},
   "source": [
    "### Code"
   ]
  },
  {
   "cell_type": "code",
   "execution_count": 3,
   "metadata": {},
   "outputs": [
    {
     "name": "stdout",
     "output_type": "stream",
     "text": [
      "Determinant of A: -0.5\n",
      "Determinant of B: 0.0\n",
      "Determinant of C: 1.0\n",
      "\n",
      "Eigenvalues of A: [ 0.22474487 -2.22474487]\n",
      "Eigenvectors of A:\n",
      "[[ 0.77459667 -0.77459667]\n",
      " [ 0.63245553  0.63245553]]\n",
      "\n",
      "Eigenvalues of B: [-1.11022302e-16 -2.00000000e+00]\n",
      "Eigenvectors of B:\n",
      "[[ 0.83205029 -0.83205029]\n",
      " [ 0.5547002   0.5547002 ]]\n",
      "\n",
      "Eigenvalues of C: [1. 1. 1.]\n",
      "Eigenvectors of C:\n",
      "[[1. 0. 0.]\n",
      " [0. 1. 0.]\n",
      " [0. 0. 1.]]\n",
      "\n",
      "Transpose of A:\n",
      "[[-1.   1. ]\n",
      " [ 1.5 -1. ]]\n",
      "\n",
      "Transpose of B:\n",
      "[[-1.          0.66666667]\n",
      " [ 1.5        -1.        ]]\n",
      "\n",
      "Transpose of C:\n",
      "[[1 0 0]\n",
      " [0 1 0]\n",
      " [0 0 1]]\n",
      "\n"
     ]
    }
   ],
   "source": [
    "A = np.array([[-1, 3/2], [1, -1]])\n",
    "B = np.array([[-1, 3/2], [2/3, -1]])\n",
    "C = np.array([[1, 0, 0], [0, 1, 0], [0, 0, 1]])\n",
    "\n",
    "determinant_A = determinant(A)\n",
    "determinant_B = determinant(B)\n",
    "determinant_C = determinant(C)\n",
    "\n",
    "print(f'Determinant of A: {determinant_A}')\n",
    "print(f'Determinant of B: {determinant_B}')\n",
    "print(f'Determinant of C: {determinant_C}')\n",
    "print()\n",
    "\n",
    "eigenvalues_A, eigenvectors_A = compute_eigenvectors(A)\n",
    "eigenvalues_B, eigenvectors_B = compute_eigenvectors(B)\n",
    "eigenvalues_C, eigenvectors_C = compute_eigenvectors(C)\n",
    "\n",
    "print(f'Eigenvalues of A: {eigenvalues_A}')\n",
    "print(f'Eigenvectors of A:\\n{eigenvectors_A}\\n')\n",
    "\n",
    "print(f'Eigenvalues of B: {eigenvalues_B}')\n",
    "print(f'Eigenvectors of B:\\n{eigenvectors_B}\\n')\n",
    "\n",
    "print(f'Eigenvalues of C: {eigenvalues_C}')\n",
    "print(f'Eigenvectors of C:\\n{eigenvectors_C}\\n')\n",
    "\n",
    "transpose_A = transpose(A)\n",
    "transpose_B = transpose(B)\n",
    "transpose_C = transpose(C)\n",
    "\n",
    "print(f'Transpose of A:\\n{transpose_A}\\n')\n",
    "print(f'Transpose of B:\\n{transpose_B}\\n')\n",
    "print(f'Transpose of C:\\n{transpose_C}\\n')"
   ]
  },
  {
   "cell_type": "markdown",
   "metadata": {},
   "source": [
    "### Formalization"
   ]
  },
  {
   "cell_type": "markdown",
   "metadata": {},
   "source": [
    "**Properties of A**\n",
    "\n",
    "- Non-zero determinant means that it is invertible and it is full-rank\n",
    "- It has real and distinct eigenvalues, so it is diagonalizable\n",
    "- It is not symmetric\n",
    "- It is orthogonal\n",
    "\n",
    "**Properties of B**\n",
    "\n",
    "- Zero determinant means that it is not invertible and it is not full-rank\n",
    "- Multiplying it with A will result in a non-invertible matrix as well\n",
    "- It has real and distinct eigenvalues, so it is diagonalizable\n",
    "- It is not symmetric\n",
    "- Rank = 1 since there is just one non-zero eigenvalue\n",
    "\n",
    "**Properties of C**\n",
    "\n",
    "- It is an identity matrix of size 3x3\n",
    "- It has a non-zero determinant, so it is invertible and full-rank\n",
    "- It has real and distinct eigenvalues, so it is diagonalizable\n",
    "- It is already diagonalized"
   ]
  },
  {
   "cell_type": "markdown",
   "metadata": {},
   "source": [
    "\n",
    "| Property       | **Matrix A**                    | **Matrix B**                     | **Matrix C**             |\n",
    "|----------------|---------------------------------|----------------------------------|--------------------------|\n",
    "| **Size**       | 2 $\\times$ 2                  | $2 \\times 2$                   | $3 \\times 3$           |\n",
    "| **Determinant**| $-\\dfrac{1}{2}$ (invertible)  | $0$ (singular)                 | $1$ (invertible)       |\n",
    "| **Eigenvalues**| $-1 \\pm \\dfrac{\\sqrt{6}}{2}$  | $0$ and $-2$                 | $1$, $1$, $1$      |\n",
    "| **Symmetric**  | No                              | No                               | Yes                      |\n",
    "| **Diagonalizable**| Yes (distinct eigenvalues)   | Yes (distinct eigenvalues)       | Yes (already diagonal)   |\n",
    "| **Rank**       | $2$ (full rank)               | $1$                            | $3$ (full rank)        |\n",
    "| **Orthogonal** | No                              | No                               | Yes                      |"
   ]
  },
  {
   "cell_type": "markdown",
   "metadata": {},
   "source": [
    "## Question 2. \n",
    "\n",
    "Prove that $A^n = X\\Lambda ^n X^{−1}$"
   ]
  },
  {
   "cell_type": "markdown",
   "metadata": {},
   "source": [
    "### Formalization"
   ]
  },
  {
   "cell_type": "markdown",
   "metadata": {},
   "source": [
    "Assuming A in invertible, we prove this by induction. \n",
    "\n",
    "For n=1 its given since \n",
    "$$A^1 = X\\Lambda ^1 X^{−1} \\rightarrow A = X\\Lambda X^{−1}$$\n",
    "\n",
    "\n",
    "Assuming the property holds for n (that is  $A^n = X\\Lambda ^n X^{−1}$), we prove it for (n+1)\n",
    "$$A^{n+1} = A^n\\times A $$\n",
    "by induction hypothesis\n",
    "$$ = X\\Lambda ^n X^{−1} \\times X\\Lambda X^{−1}  = X\\Lambda ^{n+1} X^{−1} $$\n",
    "**QED**\n",
    "\n",
    "We can show this is the case for an example matrix."
   ]
  },
  {
   "cell_type": "markdown",
   "metadata": {},
   "source": [
    "### Code"
   ]
  },
  {
   "cell_type": "code",
   "execution_count": 4,
   "metadata": {},
   "outputs": [
    {
     "data": {
      "text/plain": [
       "array([[ 3.,  0., 12.,  0.],\n",
       "       [ 2.,  5., 10., -2.],\n",
       "       [ 0.,  0.,  9.,  0.],\n",
       "       [-4.,  0., 23.,  4.]])"
      ]
     },
     "execution_count": 4,
     "metadata": {},
     "output_type": "execute_result"
    }
   ],
   "source": [
    "# Matrices with determinant 1 have integer inverses\n",
    "eigenvectors = np.array([\n",
    "    [1, 2, 3, 2],\n",
    "    [0, 1, 4, 3],\n",
    "    [0, 0, 1, 2],\n",
    "    [0, 0, 0, 1]\n",
    "])\n",
    "# Permute rows to make it look a bit more interesting\n",
    "eigenvectors= eigenvectors[[2,0,3,1]]\n",
    "\n",
    "eigenvalues = np.diag([5,4,3,9])\n",
    "\n",
    "# Now we have an matrix A\n",
    "A = eigenvectors@eigenvalues@np.linalg.inv(eigenvectors)\n",
    "A"
   ]
  },
  {
   "cell_type": "code",
   "execution_count": 5,
   "metadata": {},
   "outputs": [
    {
     "name": "stdout",
     "output_type": "stream",
     "text": [
      "Are the two matrices the same?:  True\n"
     ]
    }
   ],
   "source": [
    "A5 = np.linalg.matrix_power(A, 5)\n",
    "# You can use the property that A^n = X*Lambda^n*X^-1\n",
    "A5_eigenvectors = eigenvectors @ np.diag([5**5, 4**5, 3**5, 9**5]) @ np.linalg.inv(eigenvectors)\n",
    "\n",
    "print(\"Are the two matrices the same?: \", (A5 == A5_eigenvectors).all())"
   ]
  },
  {
   "cell_type": "markdown",
   "metadata": {},
   "source": [
    "## Question 3\n",
    "\n",
    "Find the eigenvalues and unit eigenvectors of $A^TA$ and $AA^T$ with A = $\\begin{pmatrix} 1 & 1 \\\\ 1 & 0 \\end{pmatrix}$ Fibonacci matrix"
   ]
  },
  {
   "cell_type": "markdown",
   "metadata": {},
   "source": [
    "### Code"
   ]
  },
  {
   "cell_type": "code",
   "execution_count": 6,
   "metadata": {},
   "outputs": [
    {
     "name": "stdout",
     "output_type": "stream",
     "text": [
      "A^T @ A:\n",
      "[[2 1]\n",
      " [1 1]]\n",
      "\n",
      "A @ A^T:\n",
      "[[2 1]\n",
      " [1 1]]\n",
      "\n",
      "Eigenvalues of A^T @ A: [2.61803399 0.38196601]\n",
      "Unit eigenvectors of A^T @ A:\n",
      "[[ 0.85065081 -0.52573111]\n",
      " [ 0.52573111  0.85065081]]\n",
      "\n",
      "Eigenvalues of A @ A^T: [2.61803399 0.38196601]\n",
      "Unit eigenvectors of A @ A^T:\n",
      "[[ 0.85065081 -0.52573111]\n",
      " [ 0.52573111  0.85065081]]\n",
      "\n"
     ]
    }
   ],
   "source": [
    "A = np.array([[1, 1], [1, 0]])\n",
    "\n",
    "ata = multiply(transpose(A), A)\n",
    "aat = multiply(A, transpose(A))\n",
    "\n",
    "print(f'A^T @ A:\\n{ata}\\n')\n",
    "print(f'A @ A^T:\\n{aat}\\n')\n",
    "\n",
    "eigenvalues_ata, eigenvectors_ata = compute_eigenvectors(ata)\n",
    "eigenvalues_aat, eigenvectors_aat = compute_eigenvectors(aat)\n",
    "\n",
    "print(f'Eigenvalues of A^T @ A: {eigenvalues_ata}')\n",
    "print(f'Unit eigenvectors of A^T @ A:\\n{eigenvectors_ata}\\n')\n",
    "\n",
    "print(f'Eigenvalues of A @ A^T: {eigenvalues_aat}')\n",
    "print(f'Unit eigenvectors of A @ A^T:\\n{eigenvectors_aat}\\n')"
   ]
  },
  {
   "cell_type": "markdown",
   "metadata": {},
   "source": [
    "### **Formalization**\n",
    "\n",
    "\n",
    "In this case, $ A^T A $ and $ A A^T $ are **identical** because $ A $ is a **symmetric matrix** ($ A = A^T $).\n",
    "\n",
    "\n",
    "- **Symmetry:**\n",
    "  - Both $ A^T A $ and $ A A^T $ are **symmetric matrices**. This implies that they have real eigenvalues and their eigenvectors are orthogonal.\n",
    "\n",
    "- **Positive Semi-Definiteness:**\n",
    "  - Since $ A^T A $ and $ A A^T $ are formed by the product of a matrix with its transpose, they are **positive semi-definite**. Given that $ A $ is invertible (determinant $ \\det(A) = -1 \\neq 0 $), $ A^T A $ and $ A A^T $ are actually **positive definite**.\n",
    "\n",
    "- **Eigenvalues:**\n",
    "  - Both matrices share the **same eigenvalues** because they are similar matrices (i.e., $ A^T A $ and $ A A^T $ have the same non-zero eigenvalues).\n",
    "  \n",
    "- **Eigenvectors:**\n",
    "  - The **unit eigenvectors** of $ A^T A $ and $ A A^T $ are identical in this case due to the symmetry and identical nature of the two matrices.\n",
    "  - The eigenvectors are orthonormal, meaning they are both **unit vectors** and **mutually perpendicular**.\n",
    "\n",
    "- **Diagonalization:**\n",
    "  - Being symmetric and positive definite, both $ A^T A $ and $ A A^T $ are **diagonalizable**."
   ]
  },
  {
   "cell_type": "markdown",
   "metadata": {},
   "source": [
    "## Question 4. \n",
    "Find determinants, eigenvector and eigen values \n",
    "Without multiplying \n",
    "\n",
    "$$\n",
    "S = \\begin{bmatrix}\n",
    "\\cos \\theta & -\\sin \\theta \\\\\n",
    "\\sin \\theta & \\cos \\theta \n",
    "\\end{bmatrix}\n",
    "\\begin{bmatrix}\n",
    "2 & 0 \\\\\n",
    "0 & 5 \n",
    "\\end{bmatrix}\n",
    "\\begin{bmatrix}\n",
    "\\cos \\theta & \\sin \\theta \\\\\n",
    "-\\sin \\theta & \\cos \\theta \n",
    "\\end{bmatrix}\n",
    "$$\n",
    "\n",
    "find the determinant, the eigenvalues and eigenvectors, why S is positive definite"
   ]
  },
  {
   "cell_type": "markdown",
   "metadata": {},
   "source": [
    "### Formalization"
   ]
  },
  {
   "cell_type": "markdown",
   "metadata": {},
   "source": [
    "Let \n",
    "$$\n",
    "S = \\begin{bmatrix}\n",
    "\\cos \\theta & -\\sin \\theta \\\\\n",
    "\\sin \\theta & \\cos \\theta \n",
    "\\end{bmatrix}\n",
    "\\begin{bmatrix}\n",
    "2 & 0 \\\\\n",
    "0 & 5 \n",
    "\\end{bmatrix}\n",
    "\\begin{bmatrix}\n",
    "\\cos \\theta & \\sin \\theta \\\\\n",
    "-\\sin \\theta & \\cos \\theta \n",
    "\\end{bmatrix}\n",
    "$$\n",
    "\n",
    "Then we know that $T_1 = \\begin{bmatrix} \\cos \\theta & -\\sin \\theta \\\\ \\sin \\theta & \\cos \\theta \\end{bmatrix}$  is a rotation matrix that rotates a vector $\\theta$ degrees counterclockwise.\n",
    "\n",
    "Similarly we have that $T_2 = \\begin{bmatrix} \\cos \\theta & \\sin \\theta \\\\ -\\sin \\theta & \\cos \\theta \\end{bmatrix}$ is a rotation matrix that rotates a vector $\\theta$ degrees clockwise.\n",
    "\n",
    "So by multiplying by $S$ what we are truly doing is rotating clockwise $\\theta$, then multiplying by $E = \\begin{bmatrix} 2 & 0 \\\\ 0 & 5 \\end{bmatrix}$ which is expanding on the X and Y axis by 2 and 5 respectevly and then is rotating everything counterclockwise $\\theta$ degrees.\n",
    "\n",
    "For the **determinant** it is easy to see that $T_1$ and $T_2$ are ortogonal and have determinant 1, similarly is easy to see that $det(E)=2*5=10$, so the determinant of $S$ can be calculated by \n",
    "$$det(S)= det(T_1 E T_2) = det(T_1)\\times det(E) \\times det(T_2) = 1 \\times 10 \\times 1 = 10$$\n",
    "\n",
    "The **eigenvalues** are clearly 2 and 5, since we are expanding in $E$ by those values the first and second axis.\n",
    "\n",
    "The **eigenvectors** are easy to find as well since what we need is to get the vectors that when $T_2$ is applied have either the first or the second axis null. We can rotate some vector like $\\begin{bmatrix}1\\\\0 \\end{bmatrix}$ that has the second axis nullyfied, by the inverse of $T_2$ which is $T_1$. \n",
    "\n",
    "Thus our eigenvector for the eigenvalue 2 is $T_1 \\begin{bmatrix}1\\\\0 \\end{bmatrix} = \\begin{bmatrix}\\cos \\theta \\\\ \\sin \\theta \\end{bmatrix}$\n",
    "\n",
    "Similarly for eigenvalue 5 the eigenvector is $T_1 \\begin{bmatrix}0\\\\1 \\end{bmatrix} = \\begin{bmatrix}-\\sin \\theta \\\\ \\cos \\theta \\end{bmatrix}$"
   ]
  },
  {
   "cell_type": "markdown",
   "metadata": {},
   "source": [
    "### Code"
   ]
  },
  {
   "cell_type": "code",
   "execution_count": 7,
   "metadata": {},
   "outputs": [
    {
     "name": "stdout",
     "output_type": "stream",
     "text": [
      "Determinant of S: 10.00000\n",
      "Eigenvalues:  [5. 2.]\n",
      "Eigenvectors: \n",
      " [[ 0.70710678  0.70710678]\n",
      " [-0.70710678  0.70710678]]\n",
      "Calculated eigenvectors using properties: \n",
      " [[ 0.70710678 -0.70710678]\n",
      " [ 0.70710678  0.70710678]]\n"
     ]
    }
   ],
   "source": [
    "# Define theta\n",
    "theta = np.radians(45)  # example value for theta in radians\n",
    "\n",
    "# Define the rotation matrix 1\n",
    "T1 = np.array([\n",
    "    [np.cos(theta), -np.sin(theta)],\n",
    "    [np.sin(theta), np.cos(theta)]\n",
    "])\n",
    "\n",
    "# Define the diagonal matrix\n",
    "E = np.array([\n",
    "    [2, 0],\n",
    "    [0, 5]\n",
    "])\n",
    "\n",
    "# Define the rotation matrix 2\n",
    "T2 = np.array([\n",
    "\t[np.cos(theta), np.sin(theta)],\n",
    "\t[-np.sin(theta), np.cos(theta)]\n",
    "])\n",
    "\n",
    "S = T1 @ E @ T2\n",
    "# Get the determinant of S\n",
    "det_S = np.linalg.det(S)\n",
    "print(f\"Determinant of S: {det_S:.5f}\")\n",
    "# Get the eigenvalues and eigenvectors of S\n",
    "eigenvalues, eigenvectors = np.linalg.eig(S)\n",
    "print(\"Eigenvalues: \", eigenvalues)\n",
    "print(\"Eigenvectors: \\n\", eigenvectors)\n",
    "\n",
    "# Compare to calculated eigenvectors\n",
    "eigenvectors_calculated = np.array([\n",
    "    [np.cos(theta), -np.sin(theta)],\n",
    "\t[np.sin(theta), np.cos(theta)]\n",
    "])\n",
    "print(\"Calculated eigenvectors using properties: \\n\", eigenvectors_calculated)"
   ]
  },
  {
   "cell_type": "markdown",
   "metadata": {},
   "source": [
    "## Question 5\n",
    "\n",
    "For what numbers *c* and *d* such that **S** and **T** are positive definite \n",
    "\n",
    "$$\n",
    "S = \\begin{pmatrix} c & 1 & 1 \\\\ 1 & c & 1 \\\\ 1 & 1 & c \\end{pmatrix}\n",
    "T = \\begin{pmatrix} 1 & 2 & 3 \\\\ 2 & d & 4 \\\\ 3 & 4 & 5 \\end{pmatrix} \n",
    "$$"
   ]
  },
  {
   "cell_type": "markdown",
   "metadata": {},
   "source": [
    "### Solution"
   ]
  },
  {
   "cell_type": "markdown",
   "metadata": {},
   "source": [
    "A matrx is positive definite if all its eigenvalues are positive.\n",
    "\n",
    "$\n",
    "S = \\begin{pmatrix}\n",
    "c & 1 & 1 \\\\\n",
    "1 & c & 1 \\\\\n",
    "1 & 1 & c\n",
    "\\end{pmatrix}\n",
    "$\n",
    "\n",
    "Let $ S = cI + A $, where $ I $ is the identity matrix and $ A $ is:\n",
    "$\n",
    "A = \\begin{pmatrix}\n",
    "0 & 1 & 1 \\\\\n",
    "1 & 0 & 1 \\\\\n",
    "1 & 1 & 0\n",
    "\\end{pmatrix}\n",
    "$\n",
    "\n",
    "$\n",
    "\\det(A - \\lambda I) = 0\n",
    "$\n",
    "$\n",
    "\\begin{vmatrix}\n",
    "-\\lambda & 1 & 1 \\\\\n",
    "1 & -\\lambda & 1 \\\\\n",
    "1 & 1 & -\\lambda\n",
    "\\end{vmatrix} = 0\n",
    "$\n",
    "\n",
    "$\n",
    "-\\lambda^3 + 3\\lambda + 2 = 0\n",
    "$\n",
    "\n",
    "$\n",
    "\\lambda^3 - 3\\lambda - 2 = 0\n",
    "$\n",
    "\n",
    "The eigenvalues of $ A $ are $ \\lambda_1 = 2 $ and $ \\lambda_2 = \\lambda_3 = -1 $.\n",
    "\n",
    "**Eigenvalues of $ S $:**\n",
    "$\n",
    "\\mu_1 = c + 2 \\\\\n",
    "\\mu_2 = \\mu_3 = c - 1\n",
    "$\n",
    "\n",
    "For $ S $ to be positive definite, all $ \\mu_i > 0 $:\n",
    "\n",
    "$\n",
    "c + 2 > 0 \\implies c > -2 \\\\\n",
    "c - 1 > 0 \\implies c > 1\n",
    "$\n",
    "\n",
    "The most restrictive condition is $ c > 1 $. Thus, $ S $ is positive definite when $ c > 1 $.\n",
    "\n"
   ]
  },
  {
   "cell_type": "code",
   "execution_count": 8,
   "metadata": {},
   "outputs": [
    {
     "name": "stdout",
     "output_type": "stream",
     "text": [
      "Eigenvalues of A: [1. 4. 1.]\n",
      "All are positive, so A is positive definite\n"
     ]
    }
   ],
   "source": [
    "# Let c = 2\n",
    "\n",
    "A = np.array([[2, 1, 1], [1, 2, 1], [1, 1, 2]])\n",
    "eigenvalues_A, eigenvectors_A = compute_eigenvectors(A)\n",
    "\n",
    "print(f\"Eigenvalues of A: {eigenvalues_A}\")\n",
    "print(\"All are positive, so A is positive definite\")"
   ]
  },
  {
   "cell_type": "markdown",
   "metadata": {},
   "source": [
    "\n",
    "\n",
    "$\n",
    "T = \\begin{pmatrix}\n",
    "1 & 2 & 3 \\\\\n",
    "2 & d & 4 \\\\\n",
    "3 & 4 & 5\n",
    "\\end{pmatrix}\n",
    "$\n",
    "\n",
    "$\n",
    "\\det(T - \\lambda I) =\n",
    "$\n",
    "$\n",
    "\\begin{vmatrix}\n",
    "1 - \\lambda & 2 & 3 \\\\\n",
    "2 & d - \\lambda & 4 \\\\\n",
    "3 & 4 & 5 - \\lambda\n",
    "\\end{vmatrix} = 0\n",
    "$\n",
    "\n",
    "$\n",
    "\\lambda^3 - (d + 6)\\lambda^2 - (24 - 6d)\\lambda + (4d - 12) = 0\n",
    "$\n",
    "\n",
    "$\n",
    "\\text{Sum of eigenvalues} = \\lambda_1 + \\lambda_2 + \\lambda_3 = d + 6 \\\\\n",
    "\\text{Product of eigenvalues} = \\lambda_1 \\lambda_2 \\lambda_3 = (4d - 12)\n",
    "$\n",
    "\n",
    "For all eigenvalues to be positive:\n",
    "1. $ d + 6 > 0 \\implies d > -6 $.\n",
    "2. $ 4d - 12 > 0 \\implies d < 3 $.\n",
    "\n",
    "Therefore, $ -6 < d < 3 $. \n",
    "\n",
    "But if $d \\lt 3$, then the product of eigenvalues is $\\le 0$, which means one of the eigenvalues if 0 or negative. Then, the matrix cannot be positive definite then.\n",
    "\n",
    "**Conclusion:** There is no value of $d$ such that $T$ is positive definite.\n"
   ]
  },
  {
   "cell_type": "markdown",
   "metadata": {},
   "source": [
    "## Question 6\n",
    "\n",
    "Show that if $ \\lambda_1, \\lambda_2, \\dots, \\lambda_n $ are the eigenvalues of a matrix $ A $, then $ A^m $ has eigenvalues $ \\lambda_1^m, \\lambda_2^m, \\dots, \\lambda_n^m $.\n",
    "\n",
    "**Proof using Induction**:\n",
    "\n",
    "We prove this by induction on $ m $, the exponent of $ A $.\n",
    "\n",
    "The base case is trivial since when $ m = 1 $, $ A^1 = A $ and the eigenvalues of $ A $ are $ \\lambda_1, \\lambda_2, \\dots, \\lambda_n $.\n",
    "\n",
    "\n",
    "Le us assume that the statement holds for $ m = k $, i.e., $ A^k $ has eigenvalues $ \\lambda_1^k, \\lambda_2^k, \\dots, \\lambda_n^k $.\n",
    "Then \n",
    "\n",
    "Consider $ A^{k+1} = A^k \\cdot A $.\n",
    "Let $ \\mathbf{v} $ be an eigenvector of $ A $ corresponding to an eigenvalue $ \\lambda $, i.e., $ A \\mathbf{v} = \\lambda \\mathbf{v} $.\n",
    "Then:\n",
    "$$\n",
    "A^{k+1} \\mathbf{v} = A^k (A \\mathbf{v}) = A^k (\\lambda \\mathbf{v}).\n",
    "$$\n",
    "Since $ \\lambda $ is a scalar, then\n",
    "$$\n",
    "A^{k+1} \\mathbf{v} = \\lambda \\cdot (A^k \\mathbf{v}).\n",
    "$$\n",
    "By the inductive hypothesis, $ A^k \\mathbf{v} = \\lambda^k \\mathbf{v} $, so:\n",
    "$$\n",
    "A^{k+1} \\mathbf{v} = \\lambda \\cdot (\\lambda^k \\mathbf{v}) = \\lambda^{k+1} \\mathbf{v}.\n",
    "$$\n",
    "Thus $ \\mathbf{v} $ is an eigenvector of $ A^{k+1} $ with eigenvalue $ \\lambda^{k+1} $ as we wanted to show. A similar process follows for the rest of\n",
    "the eigenvalues.\n",
    "\n",
    "\n"
   ]
  },
  {
   "cell_type": "markdown",
   "metadata": {},
   "source": [
    "## Question 7\n",
    "\n",
    "What is the determinant of any orthogonal matrix?"
   ]
  },
  {
   "cell_type": "markdown",
   "metadata": {},
   "source": [
    "### Formalism\n",
    "\n",
    "Let $ Q $ be an orthogonal matrix and $I$ is the identity matrix. Then:\n",
    "\n",
    "$\n",
    "Q^T Q = I\n",
    "$\n",
    "\n",
    "$\n",
    "\\det(Q^T Q) = \\det(I)\n",
    "$\n",
    "\n",
    "$\n",
    "\\det(Q^T) \\cdot \\det(Q) = 1\n",
    "$\n",
    "\n",
    "$\n",
    "[\\det(Q)]^2 = 1\n",
    "$\n",
    "\n",
    "$\n",
    "\\det(Q) = \\pm 1\n",
    "$\n",
    "\n",
    "**Any orthogonal matrix** Q satisfies:\n",
    "$\n",
    "\\det(Q) = \\pm 1\n",
    "$\n"
   ]
  },
  {
   "cell_type": "markdown",
   "metadata": {},
   "source": [
    "### Code"
   ]
  },
  {
   "cell_type": "code",
   "execution_count": 9,
   "metadata": {},
   "outputs": [
    {
     "name": "stdout",
     "output_type": "stream",
     "text": [
      "Is Q orthogonal? True\n",
      "Determinant of Q: 1.0\n",
      "Is the determinant of Q either 1 or -1? True\n"
     ]
    }
   ],
   "source": [
    "# Define an orthogonal matrix Q\n",
    "Q = np.array([\n",
    "    [0.6, -0.8],\n",
    "    [0.8, 0.6]\n",
    "])\n",
    "\n",
    "# Verify that Q is orthogonal: Q.T @ Q should be the identity matrix\n",
    "is_orthogonal = np.allclose(Q.T @ Q, np.eye(Q.shape[0]))\n",
    "print(f\"Is Q orthogonal? {is_orthogonal}\")\n",
    "\n",
    "# Compute the determinant of Q\n",
    "det_Q = np.linalg.det(Q)\n",
    "print(f\"Determinant of Q: {det_Q}\")\n",
    "\n",
    "# Check if the determinant is either 1 or -1\n",
    "is_det_valid = np.isclose(det_Q, 1) or np.isclose(det_Q, -1)\n",
    "print(f\"Is the determinant of Q either 1 or -1? {is_det_valid}\")"
   ]
  },
  {
   "cell_type": "markdown",
   "metadata": {},
   "source": [
    "## Question 8\n",
    "For an undirected graph both the adjacency matrix and the Laplacian matrix are symmetric. Show that \n",
    "Laplacian is positive semi-definite matrix. Show that Laplacian that 0 is en eigenvalue (the smallest one)."
   ]
  },
  {
   "cell_type": "markdown",
   "metadata": {},
   "source": [
    "### Formalism\n",
    "\n",
    "Let us have the *incidence matrix* which has shape $m\\times n$ \n",
    "$$\n",
    "B(G) = \n",
    "\\begin{cases} \n",
    "1 & \\text{if there is an edge and a node } (v, w) \\text{ and } v < w \\\\\n",
    "-1 & \\text{if there is an edge and a node } (v, w) \\text{ and } v > w \\\\\n",
    "0 & \\text{otherwise.}\n",
    "\\end{cases}\n",
    "$$\n",
    "\n",
    "\n",
    "For example we have the graph $G$\n",
    "\n",
    "![Graph](https://i.ibb.co/9NmP2Z5/Screenshot-from-2024-11-23-18-39-32.png)\n",
    "\n",
    "$$\n",
    "L_G = \n",
    "\\begin{pmatrix}\n",
    "3 & -1 & -1 & -1 \\\\\n",
    "-1 & 1 & 0 & 0 \\\\\n",
    "-1 & 0 & 1 & 0 \\\\\n",
    "-1 & 0 & 0 & 1\n",
    "\\end{pmatrix}\n",
    "$$\n",
    "\n",
    "The incidence matrix  :\n",
    "\n",
    "$$\n",
    "B(G) = \n",
    "\\begin{pmatrix}\n",
    "1 & -1 & 0 & 0 \\\\\n",
    "1 & 0 & -1 & 0 \\\\\n",
    "1 & 0 & 0 & -1\n",
    "\\end{pmatrix}\n",
    "$$\n",
    "\n",
    "\n",
    "Then we want to prove that the laplacian matrix can be written as $L = B^T B$\n",
    "\n",
    "**Proof**\n",
    "\n",
    "Lets realize that for each cell $i,j$ , we have that they are the product of the $i$-th column of $B$ with the $j$-th column of B. Then we can differentiate three cases\n",
    "\n",
    "1. $i=j$ : This is clearly the degree of $i$, since for each node that goes into it we add 1.\n",
    "2. $i \\not = j$ with no edge between $i$ and $j$: Then the \"bitmap\" of each column wont match in any node and the result will be 0 as expected\n",
    "3. $i \\not = j$ with an edge between $i$ and $j$: Then the \"bitmap\" matches in exactly one element where one is $-1$ and the other one is $1$. Thus the result is $-1$ as expected.\n",
    "\n",
    "**QED**\n",
    "\n",
    "\n",
    "Thus since we can express $L$ as $L = B^T B$ then it is positive semidefinite.\n",
    "\n",
    "\n",
    "#### There is a 0 eigenvalue\n",
    "Let us take $1$ as the vector of only $1$ in each component.\n",
    "\n",
    "Then $L1 =(D-A)1 = D1 - A 1 = \\text{degree vector} - \\text{degree vector} = 0 $. Thus it has 0 as an eigenvalue.\n",
    "\n",
    "\n"
   ]
  }
 ],
 "metadata": {
  "kernelspec": {
   "display_name": "torch",
   "language": "python",
   "name": "python3"
  },
  "language_info": {
   "codemirror_mode": {
    "name": "ipython",
    "version": 3
   },
   "file_extension": ".py",
   "mimetype": "text/x-python",
   "name": "python",
   "nbconvert_exporter": "python",
   "pygments_lexer": "ipython3",
   "version": "3.12.5"
  }
 },
 "nbformat": 4,
 "nbformat_minor": 2
}
